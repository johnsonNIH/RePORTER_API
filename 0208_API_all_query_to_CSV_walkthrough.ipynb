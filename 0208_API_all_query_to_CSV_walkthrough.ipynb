{
 "cells": [
  {
   "cell_type": "markdown",
   "id": "06d96309",
   "metadata": {},
   "source": [
    "## This script demonstrates querying all records using specified criteria through RePorter API."
   ]
  },
  {
   "cell_type": "code",
   "execution_count": 1,
   "id": "036f7ffb",
   "metadata": {},
   "outputs": [],
   "source": [
    "#import the packages needed to run this script\n",
    "import requests\n",
    "import json"
   ]
  },
  {
   "cell_type": "markdown",
   "id": "43457e05",
   "metadata": {},
   "source": [
    "### Retrieving All Results via Iteration\n",
    "\n",
    "The RePorter API functions like a waiter or librarian, receiving requests from you with criteria specified in a Python dictionary. The available request parameters are listed in the RePorter API documentation (https://api.reporter.nih.gov/?urls.primaryName=V2.0). After reciving a request, The API then delivers records that match the criteria.\n",
    "\n",
    "However, there is a limitation: the RePorter API has a return limit of 500 records per request. If there are 1000 records in total, to retrieve record #501, the \"offset\" parameter must be set to 500. To retrieve all matching records, multiple requests must be made, incrementing the offset value each time. This process is performed in a loop in the script, and is demonstrated in the following code blocks."
   ]
  },
  {
   "cell_type": "markdown",
   "id": "2a3569ed",
   "metadata": {},
   "source": [
    "## Demo: All projects of NCI in 2021"
   ]
  },
  {
   "cell_type": "markdown",
   "id": "e14996fd",
   "metadata": {},
   "source": [
    "### Option 1: Using a for loop"
   ]
  },
  {
   "cell_type": "markdown",
   "id": "23adca40",
   "metadata": {},
   "source": [
    "Let's determine the number of iterations we need to retrieve all matching results using a for loop. We start by finding out the total number of records that match our search criteria, which are all NCI projects in 2021. To do this, we make an initial request with the specified criteria. The returned results are saved in a JSON format, with the total number of all records stored in its metadata under \"total\". Remember, the criteria are specified in the \"data\" "
   ]
  },
  {
   "cell_type": "code",
   "execution_count": 2,
   "id": "d79dadcb",
   "metadata": {},
   "outputs": [
    {
     "name": "stdout",
     "output_type": "stream",
     "text": [
      "Total number of records: 12608\n"
     ]
    }
   ],
   "source": [
    "# Specifying the target URL and header\n",
    "url = \"https://api.reporter.nih.gov/v2/projects/search\"\n",
    "headers = {'accept': 'application/json', 'Content-Type': 'application/json'}\n",
    "\n",
    "\n",
    "#The \"data\" dictionary contains the criteria for the API request. \n",
    "#In this case, it is set to retrieve all projects from NCI in the year 2021.\n",
    "data = {\n",
    "         \"criteria\":\n",
    "         {\n",
    "             \"fiscal_years\":[2021],\n",
    "             \"agencies\":[\"NCI\"],\n",
    "         #In addition to the criteria already specified, other parameters can be included in the request \n",
    "         #such as \"award_types\", \"pi_names\", \"appl_ids\", etc. For more information on how to specify these \n",
    "         #criteria in the dictionary, please refer to the RePorter API documentation (https://api.reporter.nih.gov/?urls.primaryName=V2.0).\n",
    "        }}\n",
    "\n",
    "# Passing data and headers to make a request\n",
    "# The return is stored in r, a request object\n",
    "r = requests.post(url, data=json.dumps(data), headers=headers)\n",
    "# Parsing request object 'r' to a python dictionary using .json()\n",
    "r_json = r.json()    \n",
    "tot_records = r_json['meta']['total'] #Pulling out 'total' under 'meta' to see how many records matches our criteria\n",
    "\n",
    "print(f\"Total number of records: {tot_records}\")"
   ]
  },
  {
   "cell_type": "markdown",
   "id": "67e06a21",
   "metadata": {},
   "source": [
    "To retrieve all 12608 records of NCI projects in 2021 using a for loop, we must first calculate the number of iterations needed. By dividing the total number of records by the API's return limit of 500 records per request, we find that we need 25 full iterations and one final iteration of 108 records.\n",
    "\n",
    "In this demonstration, we save both the meta data and actual results of each iteration separately. After all iterations are complete, the 'results' list will contain 26 sublists, each with either 500 or 108 dictionaries of all results. The 'meta' list will consist of 26 elements, each containing the meta data of the corresponding request.\n"
   ]
  },
  {
   "cell_type": "code",
   "execution_count": 3,
   "id": "56eea548",
   "metadata": {
    "scrolled": false
   },
   "outputs": [
    {
     "name": "stdout",
     "output_type": "stream",
     "text": [
      "Call #0\n",
      "# Number of records in this call: 500\n",
      "Call #1\n",
      "# Number of records in this call: 500\n",
      "Call #2\n",
      "# Number of records in this call: 500\n",
      "Call #3\n",
      "# Number of records in this call: 500\n",
      "Call #4\n",
      "# Number of records in this call: 500\n",
      "Call #5\n",
      "# Number of records in this call: 500\n",
      "Call #6\n",
      "# Number of records in this call: 500\n",
      "Call #7\n",
      "# Number of records in this call: 500\n",
      "Call #8\n",
      "# Number of records in this call: 500\n",
      "Call #9\n",
      "# Number of records in this call: 500\n",
      "Call #10\n",
      "# Number of records in this call: 500\n",
      "Call #11\n",
      "# Number of records in this call: 500\n",
      "Call #12\n",
      "# Number of records in this call: 500\n",
      "Call #13\n",
      "# Number of records in this call: 500\n",
      "Call #14\n",
      "# Number of records in this call: 500\n",
      "Call #15\n",
      "# Number of records in this call: 500\n",
      "Call #16\n",
      "# Number of records in this call: 500\n",
      "Call #17\n",
      "# Number of records in this call: 500\n",
      "Call #18\n",
      "# Number of records in this call: 500\n",
      "Call #19\n",
      "# Number of records in this call: 500\n",
      "Call #20\n",
      "# Number of records in this call: 500\n",
      "Call #21\n",
      "# Number of records in this call: 500\n",
      "Call #22\n",
      "# Number of records in this call: 500\n",
      "Call #23\n",
      "# Number of records in this call: 500\n",
      "Call #24\n",
      "# Number of records in this call: 500\n",
      "Call #25\n",
      "# Number of records in this call: 108\n"
     ]
    }
   ],
   "source": [
    "'''\n",
    "Query the Reporter API\n",
    "\n",
    "API documentation:\n",
    "https://api.reporter.nih.gov/?urls.primaryName=V2.0\n",
    "'''\n",
    "\n",
    "url = \"https://api.reporter.nih.gov/v2/projects/search\"\n",
    "headers = {'accept': 'application/json', 'Content-Type': 'application/json'}\n",
    "\n",
    "'''\n",
    "Fetch all results through one loop.\n",
    "'''\n",
    "\n",
    "meta = []\n",
    "results = []\n",
    "\n",
    "for i in range(26):\n",
    "    \n",
    "    data = {\n",
    "         \"criteria\":\n",
    "         {\n",
    "             \"fiscal_years\":[2021],\n",
    "               \"agencies\":[\"NCI\"],\n",
    "             },\n",
    "             \"include_fields\": [\n",
    "                \"ApplId\",\"SubprojectId\",\"FiscalYear\",\"Organization\", \"ProjectNum\",\"OrgCountry\",\n",
    "                \"ProjectNumSplit\",\"ContactPiName\", \"AllText\",\"FullStudySection\",\n",
    "                \"ProjectStartDate\",\"ProjectEndDate\"\n",
    "             ],\n",
    "             \"offset\":500*i,\n",
    "             \"limit\":500,\n",
    "             \"sort_field\":\"project_start_date\",\n",
    "             \"sort_order\":\"desc\"\n",
    "        }\n",
    "\n",
    "\n",
    "    r = requests.post(url, data=json.dumps(data), headers=headers)\n",
    "    r_json = r.json()\n",
    "\n",
    "    if r_json['results'] != []:\n",
    "            \n",
    "        meta.append(r_json['meta']) #storing the return to meta\n",
    "        results.append(r_json['results'])#storing the return to results\n",
    "        print(f'Call #{i}') # Printing out the process for verification\n",
    "        print(f\"# Number of records in this call: {len(r_json['results'])}\")\n",
    "    else:\n",
    "            break"
   ]
  },
  {
   "cell_type": "markdown",
   "id": "2fbc226a",
   "metadata": {},
   "source": [
    "### Option 2: Using a while loop\n",
    "\n",
    "To streamline the process of retrieving all records, we can use a while loop instead of a for loop. This eliminates the need to know beforehand the number of iterations required. \n",
    "\n",
    "The script below continuously sends requests and saves the returned results until all records are exhausted. The loop is broken when the request is not a dictionary and returns a list with a string message reading \"Requested offset X exceeded total records count of Y\". "
   ]
  },
  {
   "cell_type": "code",
   "execution_count": 4,
   "id": "9e3efd3e",
   "metadata": {
    "scrolled": false
   },
   "outputs": [
    {
     "name": "stdout",
     "output_type": "stream",
     "text": [
      "Call #0\n",
      "# Number of records in this call: 500\n",
      "Call #1\n",
      "# Number of records in this call: 500\n",
      "Call #2\n",
      "# Number of records in this call: 500\n",
      "Call #3\n",
      "# Number of records in this call: 500\n",
      "Call #4\n",
      "# Number of records in this call: 500\n",
      "Call #5\n",
      "# Number of records in this call: 500\n",
      "Call #6\n",
      "# Number of records in this call: 500\n",
      "Call #7\n",
      "# Number of records in this call: 500\n",
      "Call #8\n",
      "# Number of records in this call: 500\n",
      "Call #9\n",
      "# Number of records in this call: 500\n",
      "Call #10\n",
      "# Number of records in this call: 500\n",
      "Call #11\n",
      "# Number of records in this call: 500\n",
      "Call #12\n",
      "# Number of records in this call: 500\n",
      "Call #13\n",
      "# Number of records in this call: 500\n",
      "Call #14\n",
      "# Number of records in this call: 500\n",
      "Call #15\n",
      "# Number of records in this call: 500\n",
      "Call #16\n",
      "# Number of records in this call: 500\n",
      "Call #17\n",
      "# Number of records in this call: 500\n",
      "Call #18\n",
      "# Number of records in this call: 500\n",
      "Call #19\n",
      "# Number of records in this call: 500\n",
      "Call #20\n",
      "# Number of records in this call: 500\n",
      "Call #21\n",
      "# Number of records in this call: 500\n",
      "Call #22\n",
      "# Number of records in this call: 500\n",
      "Call #23\n",
      "# Number of records in this call: 500\n",
      "Call #24\n",
      "# Number of records in this call: 500\n",
      "Call #25\n",
      "# Number of records in this call: 108\n",
      "Number of retrievals done: 26\n",
      "All matches are returned. Total records: 12608\n"
     ]
    }
   ],
   "source": [
    "'''\n",
    "Query the Reporter API\n",
    "\n",
    "API documentation:\n",
    "https://api.reporter.nih.gov/?urls.primaryName=V2.0\n",
    "'''\n",
    "\n",
    "url = \"https://api.reporter.nih.gov/v2/projects/search\"\n",
    "headers = {'accept': 'application/json', 'Content-Type': 'application/json'}\n",
    "\n",
    "\n",
    "'''\n",
    "Fetch all results through while loop.\n",
    "'''\n",
    "\n",
    "meta = []\n",
    "results = []\n",
    "i = 0\n",
    "r_json = {}\n",
    "\n",
    "while True:\n",
    "    \n",
    "    data = {\n",
    "         \"criteria\":\n",
    "         {\n",
    "             \"fiscal_years\":[2021],\n",
    "               \"agencies\":[\"NCI\"],\n",
    "             },\n",
    "             \"include_fields\": [\n",
    "                \"ApplId\",\"SubprojectId\",\"FiscalYear\",\"Organization\", \"ProjectNum\",\"OrgCountry\",\n",
    "                \"ProjectNumSplit\",\"ContactPiName\", \"AllText\",\"FullStudySection\",\n",
    "                \"ProjectStartDate\",\"ProjectEndDate\"\n",
    "             ],\n",
    "             \"offset\":500*i,\n",
    "             \"limit\":500,\n",
    "             \"sort_field\":\"project_start_date\",\n",
    "             \"sort_order\":\"desc\"\n",
    "        }\n",
    "\n",
    "    r = requests.post(url, data=json.dumps(data), headers=headers)\n",
    "    r_json = r.json()\n",
    "    \n",
    "    \n",
    "    if type(r_json) == dict:\n",
    "     \n",
    "        meta.append(r_json['meta'])\n",
    "        results.append(r_json['results'])\n",
    "        print(f'Call #{i}')\n",
    "        print(f\"# Number of records in this call: {len(r_json['results'])}\")\n",
    "        i+=1\n",
    "    else:\n",
    "        break\n",
    "\n",
    "\n",
    "print(f'Number of retrievals done: {len(results)}')\n",
    "total = 0\n",
    "for i in range(len(results)):\n",
    "    total += len(results[i])\n",
    "\n",
    "print(f\"All matches are returned. Total records: {total}\")\n",
    "\n",
    "            \n",
    "            \n",
    "    "
   ]
  },
  {
   "cell_type": "markdown",
   "id": "eec15880",
   "metadata": {},
   "source": [
    "### Saving all the retrieved records\n",
    "\n",
    "Both options 1 and 2 above store the iteration returns in separate lists of 'meta' and 'results'. However, this is not the only method to save the returns. Another approach is to save the returned dictionaries from each request as pandas dataframes and concactenate them as the iteration moves forward.\n",
    "\n",
    "The following code blocks demonstrate how to output the lists of returns obtained using either option 1 or 2. A simple function named 'results_2_csv' is demonstrated. "
   ]
  },
  {
   "cell_type": "code",
   "execution_count": 5,
   "id": "dfb73f5e",
   "metadata": {},
   "outputs": [],
   "source": [
    "import itertools\n",
    "import pandas as pd\n",
    "\n",
    "def result_list_2_csv(input_list, file_name, meta):\n",
    "    '''\n",
    "    Transform the retrieved records to csv files.\n",
    "    For meta data, each row in the resulting csv represents the meta data of each retrieval\n",
    "    For results, each row in the resulting csv represents each record\n",
    "    \n",
    "    Input:\n",
    "        input_list: results or meta data retreived\n",
    "        file_name: str, file name wished to save under\n",
    "        meta: bool, true if transforming meta data\n",
    "    '''\n",
    "    if not meta:\n",
    "        # flatten records from each retrieval to the same level\n",
    "        all_records = list(itertools.chain(*input_list))\n",
    "    else:\n",
    "        all_records = input_list\n",
    "    \n",
    "    #unpack nested dictionaries to same-leveled columns\n",
    "    all_records_df = pd.json_normalize(all_records) \n",
    "    all_records_df.to_csv(file_name)"
   ]
  },
  {
   "cell_type": "code",
   "execution_count": 6,
   "id": "4c9bd9d9",
   "metadata": {},
   "outputs": [],
   "source": [
    "# Call result_list_2_csv\n",
    "result_list_2_csv(results, 'results.csv', meta = False) #generate a csv for all records\n",
    "result_list_2_csv(meta, 'meta.csv', meta = True)  #generate a csv for all meta data of the retrievals"
   ]
  },
  {
   "cell_type": "markdown",
   "id": "6a9ec8c6",
   "metadata": {},
   "source": [
    "### Conclusion\n",
    "\n",
    "This tutorial has demonstrated how to effectively retrieve all records that match specified criteria through the RePorter API. We have shown two different methods of accomplishing this: using a for loop with a known number of iterations, or using a more flexible and fail-safe while loop. The returns of each iteration in this tutorial are saved in separate lists, while other approaches are available. With the ability to specify criteria such as agency, fiscal year, award type, PI names and more, users can easily extract the data they need from the API and analyze it in a manner that suits their needs."
   ]
  }
 ],
 "metadata": {
  "kernelspec": {
   "display_name": "Python 3 (ipykernel)",
   "language": "python",
   "name": "python3"
  },
  "language_info": {
   "codemirror_mode": {
    "name": "ipython",
    "version": 3
   },
   "file_extension": ".py",
   "mimetype": "text/x-python",
   "name": "python",
   "nbconvert_exporter": "python",
   "pygments_lexer": "ipython3",
   "version": "3.11.1"
  }
 },
 "nbformat": 4,
 "nbformat_minor": 5
}
