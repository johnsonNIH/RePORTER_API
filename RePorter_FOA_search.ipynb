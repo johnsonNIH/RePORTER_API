{
 "cells": [
  {
   "cell_type": "code",
   "execution_count": 4,
   "id": "4e73b5fe",
   "metadata": {},
   "outputs": [
    {
     "name": "stdout",
     "output_type": "stream",
     "text": [
      "Call #0\n",
      "## Number of records: 4\n",
      "# Number of records in this call: 4\n",
      "Call #1\n"
     ]
    }
   ],
   "source": [
    "#import packages needed\n",
    "import requests\n",
    "import json\n",
    "\n",
    "meta = []\n",
    "results = []\n",
    "\n",
    "url = \"https://api.reporter.nih.gov/v2/projects/search\"\n",
    "headers = {'accept': 'application/json', 'Content-Type': 'application/json'}\n",
    "\n",
    "for i in range(70):\n",
    "    print(f'Call #{i}')\n",
    "    data = {\n",
    "         \"criteria\":\n",
    "         {\n",
    "             \"foa\":[\"OTA-21-015\"]  # FOA spefification\n",
    "             },\n",
    "             \"include_fields\": [\n",
    "                \"ApplId\",\"SubprojectId\",\"FiscalYear\",\"Organization\", \"ProjectNum\",\"OrgCountry\",\n",
    "                \"ProjectNumSplit\",\"ContactPiName\", \"AllText\",\"FullStudySection\",\n",
    "                \"ProjectStartDate\",\"ProjectEndDate\"\n",
    "             ],\n",
    "             \"offset\":500*i,\n",
    "             \"limit\":500,\n",
    "             \"sort_field\":\"project_start_date\",\n",
    "             \"sort_order\":\"desc\"\n",
    "        }\n",
    "\n",
    "        #executing curl command with python codes, and transfer into json file\n",
    "    r = requests.post(url, data=json.dumps(data), headers=headers)\n",
    "    r_json = r.json()\n",
    "    \n",
    "    if i == 0:\n",
    "        tot_records = r_json['meta']['total']\n",
    "\n",
    "        print(f\"## Number of records: {tot_records}\")\n",
    "        \n",
    "\n",
    "\n",
    "    if len(r_json) == 1:\n",
    "        break\n",
    "    else:\n",
    "        if r_json['results'] != []:\n",
    "            \n",
    "            meta.append(r_json['meta'])\n",
    "            results.append(r_json['results'])\n",
    "            print(f\"# Number of records in this call: {len(r_json['results'])}\")\n",
    "        else:\n",
    "            break"
   ]
  },
  {
   "cell_type": "code",
   "execution_count": 14,
   "id": "ee1e5f7a",
   "metadata": {},
   "outputs": [
    {
     "name": "stdout",
     "output_type": "stream",
     "text": [
      "Call #0\n",
      "## Number of records: 4\n",
      "# Number of records in this call: 4\n",
      "Call #1\n"
     ]
    }
   ],
   "source": [
    "#import packages needed\n",
    "import requests\n",
    "import json\n",
    "\n",
    "meta = []\n",
    "results = []\n",
    "\n",
    "url = \"https://api.reporter.nih.gov/v2/projects/search\"\n",
    "headers = {'accept': 'application/json', 'Content-Type': 'application/json'}\n",
    "\n",
    "for i in range(70):\n",
    "    print(f'Call #{i}')\n",
    "    data = {\n",
    "         \"criteria\":\n",
    "         {\n",
    "             \"fiscal_years\": list(range(1985,2023)),\n",
    "             \"foa\":[\"OTA-21-015\"]  # FOA spefification\n",
    "             },\n",
    "             \"include_fields\": [\n",
    "                \"ApplId\",\"SubprojectId\",\"FiscalYear\",\"Organization\", \"ProjectNum\",\"OrgCountry\",\n",
    "                \"ProjectNumSplit\",\"ContactPiName\", \"AllText\",\"FullStudySection\",\n",
    "                \"ProjectStartDate\",\"ProjectEndDate\"\n",
    "             ],\n",
    "             \"offset\":500*i,\n",
    "             \"limit\":500,\n",
    "             \"sort_field\":\"project_start_date\",\n",
    "             \"sort_order\":\"desc\"\n",
    "        }\n",
    "\n",
    "        #executing curl command with python codes, and transfer into json file\n",
    "    r = requests.post(url, data=json.dumps(data), headers=headers)\n",
    "    r_json = r.json()\n",
    "    \n",
    "    if i == 0:\n",
    "        tot_records = r_json['meta']['total']\n",
    "\n",
    "        print(f\"## Number of records: {tot_records}\")\n",
    "        \n",
    "\n",
    "\n",
    "    if len(r_json) == 1:\n",
    "        break\n",
    "    else:\n",
    "        if r_json['results'] != []:\n",
    "            \n",
    "            meta.append(r_json['meta'])\n",
    "            results.append(r_json['results'])\n",
    "            print(f\"# Number of records in this call: {len(r_json['results'])}\")\n",
    "        else:\n",
    "            break"
   ]
  },
  {
   "cell_type": "markdown",
   "id": "d79e242e",
   "metadata": {},
   "source": [
    "### To include the years succinctly\n",
    "Use range(start_year, end_year+1). The end is non-inclusive like how it is in Python"
   ]
  },
  {
   "cell_type": "code",
   "execution_count": 11,
   "id": "1beda0d2",
   "metadata": {},
   "outputs": [],
   "source": [
    "lst = list(range(1985,2023))"
   ]
  },
  {
   "cell_type": "code",
   "execution_count": 12,
   "id": "2ba02987",
   "metadata": {},
   "outputs": [
    {
     "data": {
      "text/plain": [
       "[1985,\n",
       " 1986,\n",
       " 1987,\n",
       " 1988,\n",
       " 1989,\n",
       " 1990,\n",
       " 1991,\n",
       " 1992,\n",
       " 1993,\n",
       " 1994,\n",
       " 1995,\n",
       " 1996,\n",
       " 1997,\n",
       " 1998,\n",
       " 1999,\n",
       " 2000,\n",
       " 2001,\n",
       " 2002,\n",
       " 2003,\n",
       " 2004,\n",
       " 2005,\n",
       " 2006,\n",
       " 2007,\n",
       " 2008,\n",
       " 2009,\n",
       " 2010,\n",
       " 2011,\n",
       " 2012,\n",
       " 2013,\n",
       " 2014,\n",
       " 2015,\n",
       " 2016,\n",
       " 2017,\n",
       " 2018,\n",
       " 2019,\n",
       " 2020,\n",
       " 2021,\n",
       " 2022]"
      ]
     },
     "execution_count": 12,
     "metadata": {},
     "output_type": "execute_result"
    }
   ],
   "source": [
    "lst"
   ]
  },
  {
   "cell_type": "code",
   "execution_count": null,
   "id": "149ab339",
   "metadata": {},
   "outputs": [],
   "source": []
  }
 ],
 "metadata": {
  "kernelspec": {
   "display_name": "Python 3 (ipykernel)",
   "language": "python",
   "name": "python3"
  },
  "language_info": {
   "codemirror_mode": {
    "name": "ipython",
    "version": 3
   },
   "file_extension": ".py",
   "mimetype": "text/x-python",
   "name": "python",
   "nbconvert_exporter": "python",
   "pygments_lexer": "ipython3",
   "version": "3.11.1"
  }
 },
 "nbformat": 4,
 "nbformat_minor": 5
}
